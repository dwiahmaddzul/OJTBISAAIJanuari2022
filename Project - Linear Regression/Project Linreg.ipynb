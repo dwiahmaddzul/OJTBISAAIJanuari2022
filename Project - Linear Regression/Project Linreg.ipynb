{
 "cells": [
  {
   "cell_type": "markdown",
   "metadata": {
    "tags": []
   },
   "source": [
    "# PESERTA OJT DATA SCIENCE JANUARI 2022\n",
    "---\n",
    "## NAMA : DWI AHMAD DZULHIJJAH \n",
    "## EMAIL : 1818101@scholar.itn.ac.id\n",
    "## PROJECT KE 1 : Linear Regression\n",
    "---"
   ]
  },
  {
   "cell_type": "code",
   "execution_count": null,
   "metadata": {},
   "outputs": [],
   "source": []
  }
 ],
 "metadata": {
  "kernelspec": {
   "display_name": "Python 3",
   "language": "python",
   "name": "python3"
  },
  "language_info": {
   "codemirror_mode": {
    "name": "ipython",
    "version": 3
   },
   "file_extension": ".py",
   "mimetype": "text/x-python",
   "name": "python",
   "nbconvert_exporter": "python",
   "pygments_lexer": "ipython3",
   "version": "3.8.3"
  }
 },
 "nbformat": 4,
 "nbformat_minor": 4
}

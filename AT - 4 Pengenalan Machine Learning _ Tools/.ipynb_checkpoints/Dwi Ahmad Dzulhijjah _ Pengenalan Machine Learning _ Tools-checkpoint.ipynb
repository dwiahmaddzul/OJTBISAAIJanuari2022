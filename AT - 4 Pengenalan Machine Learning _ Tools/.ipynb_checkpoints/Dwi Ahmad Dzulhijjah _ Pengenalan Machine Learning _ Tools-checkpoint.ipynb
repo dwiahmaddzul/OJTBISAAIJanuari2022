{
 "cells": [
  {
   "cell_type": "markdown",
   "metadata": {},
   "source": [
    "# PESERTA OJT DATA SCIENCE JANUARI 2022\n",
    "\n",
    "### NAMA : DWI AHMAD DZULHIJJAH \n",
    "### EMAIL : 1818101@scholar.itn.ac.id\n",
    "### TUGAS MODUL KE 1 : Pengenalan Machine Learning _ Tools"
   ]
  },
  {
   "cell_type": "code",
   "execution_count": null,
   "metadata": {},
   "outputs": [],
   "source": [
    "import tweepy\n",
    "#from tweepy.streaming import StreamListener\n",
    "from tweepy import OAuthHandler\n",
    "from tweepy import Stream\n",
    "access_token = \"345356992-I44YdIsmcltyJpjFab4bygNaq97L0o7P4EnRyDzq\"\n",
    "access_token_secret = \"KhYzGYuH4NGTaNmuWq43FCz5D7d1djBP3v6IwLSBAKHT8\"\n",
    "consumer_key = \"hmzfkGBijSOmqbZasZKH36Poe\"\n",
    "consumer_secret = \"ui5i3hoSf7WLJxMlYMwl3UZzJiy5fMZQ71bJLHDi0MhRn731pN\"\n",
    "\n",
    "class StdOutListener(tweepy.Stream):\n",
    "    def on_data(self, data):\n",
    "        print(data)\n",
    "        return True\n",
    "    def on_error(self, status):\n",
    "        print(status)\n",
    "        \n",
    "if __name__ == '__main__':\n",
    "    l = StdOutListener()\n",
    "    auth = OAuthHandler(consumer_key, consumer_secret)\n",
    "    auth.set_access_token(access_token, access_token_secret)\n",
    "    stream = Stream(auth, l)\n",
    "    hasil = stream.filter(track=['data science','machine learning'])"
   ]
  },
  {
   "cell_type": "code",
   "execution_count": null,
   "metadata": {},
   "outputs": [],
   "source": [
    "\n",
    "class StdOutListener(tweepy.Stream):\n",
    "    def on_data(self, data):\n",
    "        print(data)\n",
    "        return True\n",
    "    def on_error(self, status):\n",
    "        print(status)\n",
    "        \n",
    "if __name__ == '__main__':\n",
    "    l = StdOutListener()\n",
    "    auth = OAuthHandler(consumer_key, consumer_secret)\n",
    "    auth.set_access_token(access_token, access_token_secret)\n",
    "    stream = Stream(auth, l)\n",
    "    hasil = stream.filter(track=['data science','machine learning'])"
   ]
  },
  {
   "cell_type": "markdown",
   "metadata": {},
   "source": [
    "#### MOHON KOREKSI, TERIMAKASIH :) "
   ]
  }
 ],
 "metadata": {
  "kernelspec": {
   "display_name": "Python 3",
   "language": "python",
   "name": "python3"
  },
  "language_info": {
   "codemirror_mode": {
    "name": "ipython",
    "version": 3
   },
   "file_extension": ".py",
   "mimetype": "text/x-python",
   "name": "python",
   "nbconvert_exporter": "python",
   "pygments_lexer": "ipython3",
   "version": "3.8.3"
  }
 },
 "nbformat": 4,
 "nbformat_minor": 4
}

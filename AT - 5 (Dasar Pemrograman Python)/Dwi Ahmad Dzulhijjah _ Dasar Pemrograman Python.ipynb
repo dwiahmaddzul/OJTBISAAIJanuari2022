{
 "cells": [
  {
   "cell_type": "markdown",
   "metadata": {},
   "source": [
    "# PESERTA OJT DATA SCIENCE JANUARI 2022\n",
    "\n",
    "### NAMA : DWI AHMAD DZULHIJJAH \n",
    "### EMAIL : 1818101@scholar.itn.ac.id\n",
    "### TUGAS MODUL KE 2 : Dasar Pemrograman Python"
   ]
  },
  {
   "cell_type": "code",
   "execution_count": 20,
   "metadata": {},
   "outputs": [
    {
     "name": "stdout",
     "output_type": "stream",
     "text": [
      "Masukkan Nilai Anda : 988\n",
      "Nilai yang anda masukkan salah\n"
     ]
    }
   ],
   "source": [
    "nilai = input(\"Masukkan Nilai Anda : \")\n",
    "nilai = int(nilai)\n",
    "\n",
    "if nilai >= 85 and nilai <=100:\n",
    "    print(\"Mutu Nilai adalah A\")\n",
    "elif nilai >=70 and nilai <=84:\n",
    "    print(\"Mutu Nilai adalah B\")\n",
    "elif nilai >=60 and nilai <=69:\n",
    "    print(\"Mutu Nilai adalah C\")\n",
    "elif nilai >=0 and nilai <=59:\n",
    "    print(\"Mutu Nilai adalah D\")\n",
    "else:\n",
    "    print(\"Nilai yang anda masukkan salah\")"
   ]
  },
  {
   "cell_type": "code",
   "execution_count": 36,
   "metadata": {},
   "outputs": [
    {
     "name": "stdout",
     "output_type": "stream",
     "text": [
      "Masukkan Bilangan : 21\n",
      "[1, 3, 7, 21]\n"
     ]
    }
   ],
   "source": [
    "inputnilai = input(\"Masukkan Bilangan : \")\n",
    "nilai = int(inputnilai)\n",
    "\n",
    "faktor = []\n",
    "\n",
    "for i in range(1,nilai+1) :\n",
    "    \n",
    "    if nilai % i == 0:\n",
    "        faktor.append(i)\n",
    "        \n",
    "print(faktor)"
   ]
  },
  {
   "cell_type": "markdown",
   "metadata": {},
   "source": [
    "#### MOHON KOREKSI, TERIMAKASIH :) "
   ]
  }
 ],
 "metadata": {
  "kernelspec": {
   "display_name": "Python 3",
   "language": "python",
   "name": "python3"
  },
  "language_info": {
   "codemirror_mode": {
    "name": "ipython",
    "version": 3
   },
   "file_extension": ".py",
   "mimetype": "text/x-python",
   "name": "python",
   "nbconvert_exporter": "python",
   "pygments_lexer": "ipython3",
   "version": "3.8.3"
  }
 },
 "nbformat": 4,
 "nbformat_minor": 4
}
